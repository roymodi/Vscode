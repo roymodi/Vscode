{
 "metadata": {
  "language_info": {
   "codemirror_mode": {
    "name": "ipython",
    "version": 3
   },
   "file_extension": ".py",
   "mimetype": "text/x-python",
   "name": "python",
   "nbconvert_exporter": "python",
   "pygments_lexer": "ipython3",
   "version": "3.8.5-final"
  },
  "orig_nbformat": 2,
  "kernelspec": {
   "name": "python38564bitbac1fb5e1c8c4028a1947fd802286dc4",
   "display_name": "Python 3.8.5 64-bit"
  }
 },
 "nbformat": 4,
 "nbformat_minor": 2,
 "cells": [
  {
   "cell_type": "code",
   "execution_count": null,
   "metadata": {
    "tags": []
   },
   "outputs": [],
   "source": [
    "import socket\n",
    "ip=socket.gethostbyname('www.hackthissite.org')\n",
    "print(ip)"
   ]
  },
  {
   "cell_type": "code",
   "execution_count": null,
   "metadata": {
    "tags": []
   },
   "outputs": [],
   "source": [
    "\n",
    "\n",
    "s = socket.socket(socket.AF_INET, socket.SOCK_STREAM)\n",
    "\n",
    "target = 'www.hackthissite.org'\n",
    "def pscan(port):\n",
    "    try:\n",
    "        con = s.connect((target,port))\n",
    "        return True\n",
    "    except:\n",
    "        return False\n",
    "\n",
    "\n",
    "for x in range(25):\n",
    "    if pscan(x):\n",
    "        print('Port',x,'is open')\t"
   ]
  },
  {
   "cell_type": "code",
   "execution_count": null,
   "metadata": {
    "tags": []
   },
   "outputs": [],
   "source": [
    "import threading\n",
    "from queue import Queue\n",
    "import time\n",
    "import socket\n",
    "\n",
    "# a print_lock is what is used to prevent \"double\" modification of shared variables.\n",
    "# this is used so while one thread is using a variable, others cannot access\n",
    "# it. Once done, the thread releases the print_lock.\n",
    "# to use it, you want to specify a print_lock per thing you wish to print_lock.\n",
    "print_lock = threading.Lock()\n",
    "\n",
    "\n",
    "\n",
    "target = 'hackthissite.org'\n",
    "\n",
    "\n",
    "#ip = socket.gethostbyname(target)\n",
    "\n",
    "\n",
    "\n",
    "\n",
    "def portscan(port):\n",
    "    s = socket.socket(socket.AF_INET, socket.SOCK_STREAM)\n",
    "    try:\n",
    "        con = s.connect((target,port))\n",
    "        with print_lock:\n",
    "            print('port',port)\n",
    "        con.close()\n",
    "    except:\n",
    "        pass\n",
    "\n",
    "\n",
    "# The threader thread pulls an worker from the queue and processes it\n",
    "def threader():\n",
    "    while True:\n",
    "        # gets an worker from the queue\n",
    "        worker = q.get()\n",
    "\n",
    "        # Run the example job with the avail worker in queue (thread)\n",
    "        portscan(worker)\n",
    "\n",
    "        # completed with the job\n",
    "        q.task_done()\n",
    "\n",
    "\n",
    "\n",
    "        \n",
    "\n",
    "# Create the queue and threader \n",
    "q = Queue()\n",
    "\n",
    "# how many threads are we going to allow for\n",
    "for x in range(30):\n",
    "     t = threading.Thread(target=threader)\n",
    "\n",
    "     # classifying as a daemon, so they will die when the main dies\n",
    "     t.daemon = True\n",
    "\n",
    "     # begins, must come after daemon definition\n",
    "     t.start()\n",
    "\n",
    "\n",
    "start = time.time()\n",
    "\n",
    "# 100 jobs assigned.\n",
    "for worker in range(1,100):\n",
    "    q.put(worker)\n",
    "\n",
    "# wait until the thread terminates.\n",
    "q.join()\n"
   ]
  },
  {
   "cell_type": "code",
   "execution_count": null,
   "metadata": {},
   "outputs": [],
   "source": []
  }
 ]
}